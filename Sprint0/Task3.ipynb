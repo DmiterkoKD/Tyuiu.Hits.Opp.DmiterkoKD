{
 "cells": [
  {
   "cell_type": "markdown",
   "metadata": {},
   "source": [
    "<h1 style=\"color:DodgerBlue\">Индивидальный проект</h1>"
   ]
  },
  {
   "cell_type": "markdown",
   "metadata": {},
   "source": [
    "<h2 style=\"color:DodgerBlue\">Название проекта:</h2> Customer\n",
    "\n",
    "----\n",
    "\n",
    "### Вариант задания 11\n",
    "\n"
   ]
  },
  {
   "cell_type": "markdown",
   "metadata": {},
   "source": [
    "<h2 style=\"color:DodgerBlue\">Описание проекта:</h2>\n",
    "\n",
    "----\n",
    "\n",
    "Создать базовый класс Customer в C#, который будет представлять информацию о клиентах или покупателях. На основе этого класса разработать 2-3 производных класса демонстрирующих принципы наследования и полиморфизма. В каждом из классов должны быть реализованы новые атрибуты и методы, а также переопределены некоторые методы базового класса для демонстрации полиморфизма.\n",
    "Требования к базовому классу Customer:\n",
    "• Атрибуты: Идентификатор клиента (CustomerId), Имя (Name), Электронная почта (Email).\n",
    "• Методы:\n",
    "o GetFullName(): метод для получения полного имени клиента.\n",
    "o UpdateEmail(string newEmail): метод для обновления электронной почты клиента.\n",
    "o ViewProfile(): метод для просмотра профиля клиента.\n",
    "Требования к производным классам:\n",
    "1. VIPКлиент (VipCustomer): Должен содержать дополнительные атрибуты, такие как Баланс лояльности (LoyaltyPoints). Метод ViewProfile() должен быть переопределен для отображения дополнительной информации о VIPклиенте.\n",
    "2. ОбычныйКлиент (RegularCustomer): Должен содержать дополнительные атрибуты, такие как Дата регистрации (RegistrationDate).\n",
    "Метод UpdateEmail() должен быть переопределен для добавления информации о дате последнего обновления электронной почты.\n",
    "3. ГрупповойКлиент (GroupCustomer) (если требуется третий класс): Должен содержать дополнительные атрибуты, такие как Название группы (GroupName). Метод GetFullName() должен быть переопределен для отображения названия группы вместо имени клиента.\n"
   ]
  },
  {
   "cell_type": "markdown",
   "metadata": {},
   "source": [
    "<h2 style=\"color:DodgerBlue\">Реализация:</h2>\n",
    "\n",
    "----"
   ]
  },
  {
   "cell_type": "code",
   "execution_count": 4,
   "metadata": {
    "dotnet_interactive": {
     "language": "csharp"
    },
    "polyglot_notebook": {
     "kernelName": "csharp"
    }
   },
   "outputs": [
    {
     "name": "stdout",
     "output_type": "stream",
     "text": [
      "Профиль VIP-клиента:\n",
      "=== Профиль клиента ===\n",
      "ID: 1\n",
      "Имя: Анна\n",
      "Email: anna@mail.ru\n",
      "Баллы лояльности: 5000\n",
      "Статус: VIP 🌟\n",
      "\n",
      "Профиль обычного клиента:\n",
      "=== Профиль клиента ===\n",
      "ID: 2\n",
      "Имя: Борис\n",
      "Email: boris@mail.ru\n",
      "\n",
      "Профиль группового клиента:\n",
      "=== Профиль клиента ===\n",
      "ID: 3\n",
      "Имя: Группа: Школа №15\n",
      "Email: school15@mail.ru\n",
      "\n",
      "Обновляем email у обычного клиента:\n",
      "Email обновлён на: boris.new@mail.ru\n",
      "Дата последнего обновления: 9/18/2025\n",
      "\n",
      "Полное имя группового клиента:\n",
      "Группа: Школа №15\n"
     ]
    }
   ],
   "source": [
    "public class Customer\n",
    "{\n",
    "    private int customerId;\n",
    "    private string name;\n",
    "    private string email;\n",
    "\n",
    "    public Customer(int customerId, string name, string email)\n",
    "    {\n",
    "        this.customerId = customerId;\n",
    "        this.name = name;\n",
    "        this.email = email;\n",
    "    }\n",
    "    public virtual string GetFullName()\n",
    "    {\n",
    "        return name;\n",
    "    }\n",
    "\n",
    "    public virtual void UpdateEmail(string newEmail)\n",
    "    {\n",
    "        email = newEmail;\n",
    "        Console.WriteLine(\"Email обновлён на: \" + email);\n",
    "    }\n",
    "\n",
    "    public virtual void ViewProfile()\n",
    "    {\n",
    "        Console.WriteLine(\"=== Профиль клиента ===\");\n",
    "        Console.WriteLine(\"ID: \" + customerId);\n",
    "        Console.WriteLine(\"Имя: \" + GetFullName());\n",
    "        Console.WriteLine(\"Email: \" + email);\n",
    "    }\n",
    "}\n",
    "public class VipCustomer : Customer\n",
    "{\n",
    "    private int loyaltyPoints; \n",
    "\n",
    "    public VipCustomer(int customerId, string name, string email, int loyaltyPoints)\n",
    "        : base(customerId, name, email)\n",
    "    {\n",
    "        this.loyaltyPoints = loyaltyPoints;\n",
    "    }\n",
    "\n",
    "    public override void ViewProfile()\n",
    "    {\n",
    "        base.ViewProfile(); \n",
    "        Console.WriteLine(\"Баллы лояльности: \" + loyaltyPoints);\n",
    "        Console.WriteLine(\"Статус: VIP 🌟\");\n",
    "    }\n",
    "}\n",
    "public class RegularCustomer : Customer\n",
    "{\n",
    "    private string registrationDate;\n",
    "\n",
    "    // Конструктор\n",
    "    public RegularCustomer(int customerId, string name, string email, string registrationDate)\n",
    "        : base(customerId, name, email)\n",
    "    {\n",
    "        this.registrationDate = registrationDate;\n",
    "    }\n",
    "    public override void UpdateEmail(string newEmail)\n",
    "    {\n",
    "        base.UpdateEmail(newEmail);\n",
    "        Console.WriteLine(\"Дата последнего обновления: \" + DateTime.Now.ToShortDateString());\n",
    "    }\n",
    "}\n",
    "public class GroupCustomer : Customer\n",
    "{\n",
    "    private string groupName;\n",
    "\n",
    "    public GroupCustomer(int customerId, string groupName, string email)\n",
    "        : base(customerId, \"Групповой клиент\", email) // ← имя по умолчанию\n",
    "    {\n",
    "        this.groupName = groupName;\n",
    "    }\n",
    "\n",
    "    public override string GetFullName()\n",
    "    {\n",
    "        return \"Группа: \" + groupName;\n",
    "    }\n",
    "}\n",
    "Customer vip = new VipCustomer(1, \"Анна\", \"anna@mail.ru\", 5000);\n",
    "\n",
    "Customer regular = new RegularCustomer(2, \"Борис\", \"boris@mail.ru\", \"01.01.2025\");\n",
    "\n",
    "Customer group = new GroupCustomer(3, \"Школа №15\", \"school15@mail.ru\");\n",
    "\n",
    "Console.WriteLine(\"Профиль VIP-клиента:\");\n",
    "vip.ViewProfile();\n",
    "Console.WriteLine();\n",
    "\n",
    "Console.WriteLine(\"Профиль обычного клиента:\");\n",
    "regular.ViewProfile();\n",
    "Console.WriteLine();\n",
    "\n",
    "Console.WriteLine(\"Профиль группового клиента:\");\n",
    "group.ViewProfile();\n",
    "Console.WriteLine();\n",
    "\n",
    "Console.WriteLine(\"Обновляем email у обычного клиента:\");\n",
    "regular.UpdateEmail(\"boris.new@mail.ru\");\n",
    "Console.WriteLine();\n",
    "\n",
    "Console.WriteLine(\"Полное имя группового клиента:\");\n",
    "Console.WriteLine(group.GetFullName());\n"
   ]
  }
 ],
 "metadata": {
  "kernelspec": {
   "display_name": ".NET (C#)",
   "language": "C#",
   "name": ".net-csharp"
  },
  "polyglot_notebook": {
   "kernelInfo": {
    "defaultKernelName": "csharp",
    "items": [
     {
      "aliases": [],
      "languageName": "csharp",
      "name": "csharp"
     }
    ]
   }
  }
 },
 "nbformat": 4,
 "nbformat_minor": 2
}
