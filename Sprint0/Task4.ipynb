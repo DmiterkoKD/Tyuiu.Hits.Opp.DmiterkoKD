{
 "cells": [
  {
   "cell_type": "code",
   "execution_count": null,
   "id": "b40bdbb2",
   "metadata": {},
   "outputs": [
    {
     "ename": "Error",
     "evalue": "(39,37): error CS0122: 'Plant.name' is inaccessible due to its protection level\r\n(61,37): error CS0122: 'Plant.name' is inaccessible due to its protection level\r\n(44,37): error CS0122: 'Plant.name' is inaccessible due to its protection level\r\n(67,37): error CS0122: 'Plant.name' is inaccessible due to its protection level",
     "output_type": "error",
     "traceback": [
      "(39,37): error CS0122: 'Plant.name' is inaccessible due to its protection level\r\n",
      "(61,37): error CS0122: 'Plant.name' is inaccessible due to its protection level\r\n",
      "(44,37): error CS0122: 'Plant.name' is inaccessible due to its protection level\r\n",
      "(67,37): error CS0122: 'Plant.name' is inaccessible due to its protection level"
     ]
    }
   ],
   "source": [
    "public class Plant\n",
    "{\n",
    "    private string name;\n",
    "    private string type;\n",
    "    private float height; // высота в сантиметрах\n",
    "\n",
    "    // Конструктор — вызывается при создании объекта\n",
    "    public Plant(string name, string type, float height)\n",
    "    {\n",
    "        this.name = name;\n",
    "        this.type = type;\n",
    "        this.height = height;\n",
    "    }\n",
    "\n",
    "    // Метод: Цветение — выводит сообщение о цветении\n",
    "    public virtual void Blossom()\n",
    "    {\n",
    "        Console.WriteLine($\"{type} {name} цветёт!\");\n",
    "    }\n",
    "    public void Growing(float rowth)\n",
    "    {\n",
    "        height += growth;\n",
    "        Console.WriteLine($\"{name} вырос на {growth} см. Новая высота: {height} см\");\n",
    "    }\n",
    "}"
   ]
  }
 ],
 "metadata": {
  "kernelspec": {
   "display_name": ".NET (C#)",
   "language": "C#",
   "name": ".net-csharp"
  },
  "language_info": {
   "name": "polyglot-notebook"
  },
  "polyglot_notebook": {
   "kernelInfo": {
    "defaultKernelName": "csharp",
    "items": [
     {
      "aliases": [],
      "name": "csharp"
     }
    ]
   }
  }
 },
 "nbformat": 4,
 "nbformat_minor": 5
}
