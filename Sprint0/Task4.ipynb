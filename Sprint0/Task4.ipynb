{
 "cells": [
  {
   "cell_type": "code",
   "execution_count": null,
   "id": "b40bdbb2",
   "metadata": {
    "language_info": {
     "name": "polyglot-notebook"
    },
    "polyglot_notebook": {
     "kernelName": "csharp"
    }
   },
   "outputs": [
    {
     "name": "stdout",
     "output_type": "stream",
     "text": [
      "Цветок растёт:\n",
      "Роза вырос на 10 см. Новая высота: 40 см\n",
      "Дерево растёт:\n",
      "Дуб вырос на 20 см. Новая высота: 170 см\n",
      "Цветение растений:\n",
      "Цветок Роза распускается и радует глаз!\n",
      "Дерево Дуб покрывается новыми листьями!\n",
      "Цветок увядает:\n",
      "Цветок Роза начинает увядать...\n",
      "Дерево вырастает:\n",
      "Дерево Дуб выросло на 5 лет. Новый возраст: 15 лет\n"
     ]
    }
   ],
   "source": [
    "public class Plant\n",
    "{\n",
    "    protected string name;\n",
    "    protected string type;\n",
    "    protected float height;\n",
    "\n",
    "    public Plant(string name, string type, float height)\n",
    "    {\n",
    "        this.name = name;\n",
    "        this.type = type;\n",
    "        this.height = height;\n",
    "    }\n",
    "    public virtual void Blossom()\n",
    "    {\n",
    "        Console.WriteLine($\"{type} {name} цветёт!\");\n",
    "    }\n",
    "    public void Growing(float growth)\n",
    "    {\n",
    "        height += growth;\n",
    "        Console.WriteLine($\"{name} вырос на {growth} см. Новая высота: {height} см\");\n",
    "    }\n",
    "}\n",
    "public class Flower : Plant\n",
    "{\n",
    "    private string color;\n",
    "    private int petalCount;\n",
    "\n",
    "    public Flower(string name, string color, int petalCount)\n",
    "        : base(name, \"Цветок\", 30) // ← передаём данные в базовый класс\n",
    "    {\n",
    "        this.color = color;\n",
    "        this.petalCount = petalCount;\n",
    "    }\n",
    "\n",
    "    public override void Blossom()\n",
    "    {\n",
    "        Console.WriteLine($\"Цветок {name} распускается и радует глаз!\");\n",
    "    }\n",
    "\n",
    "    public void Wilted()\n",
    "    {\n",
    "        Console.WriteLine($\"Цветок {name} начинает увядать...\");\n",
    "    }\n",
    "}\n",
    "public class Tree : Plant\n",
    "{\n",
    "    private int age;\n",
    "    private string leafType;\n",
    "\n",
    "    public Tree(string name, int age, string leafType)\n",
    "        : base(name, \"Дерево\", 150) // ← передаём данные в базовый класс\n",
    "    {\n",
    "        this.age = age;\n",
    "        this.leafType = leafType;\n",
    "    }\n",
    "\n",
    "    public override void Blossom()\n",
    "    {\n",
    "        Console.WriteLine($\"Дерево {name} покрывается новыми листьями!\");\n",
    "    }\n",
    "\n",
    "    public void Growup(int years)\n",
    "    {\n",
    "        age += years;\n",
    "        Console.WriteLine($\"Дерево {name} выросло на {years} лет. Новый возраст: {age} лет\");\n",
    "    }\n",
    "}\n",
    "Flower rose = new Flower(\"Роза\", \"Красный\", 5);\n",
    "\n",
    "Tree oak = new Tree(\"Дуб\", 10, \"Лиственные\");\n",
    "\n",
    "Console.WriteLine(\"Цветок растёт:\");\n",
    "rose.Growing(10);\n",
    "\n",
    "Console.WriteLine(\"Дерево растёт:\");\n",
    "oak.Growing(20);\n",
    "\n",
    "Console.WriteLine(\"Цветение растений:\");\n",
    "rose.Blossom();\n",
    "oak.Blossom(); \n",
    "\n",
    "Console.WriteLine(\"Цветок увядает:\");\n",
    "rose.Wilted();\n",
    "\n",
    "Console.WriteLine(\"Дерево вырастает:\");\n",
    "oak.Growup(5);"
   ]
  }
 ],
 "metadata": {
  "kernelspec": {
   "display_name": ".NET (C#)",
   "language": "C#",
   "name": ".net-csharp"
  },
  "language_info": {
   "name": "polyglot-notebook"
  },
  "polyglot_notebook": {
   "kernelInfo": {
    "defaultKernelName": "csharp",
    "items": [
     {
      "aliases": [],
      "name": "csharp"
     }
    ]
   }
  }
 },
 "nbformat": 4,
 "nbformat_minor": 5
}
